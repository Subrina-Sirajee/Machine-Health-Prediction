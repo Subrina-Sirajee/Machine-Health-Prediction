{
  "nbformat": 4,
  "nbformat_minor": 0,
  "metadata": {
    "colab": {
      "provenance": [],
      "authorship_tag": "ABX9TyNDNpKCZTkStq/WtiLDFjKw",
      "include_colab_link": true
    },
    "kernelspec": {
      "name": "python3",
      "display_name": "Python 3"
    },
    "language_info": {
      "name": "python"
    }
  },
  "cells": [
    {
      "cell_type": "markdown",
      "metadata": {
        "id": "view-in-github",
        "colab_type": "text"
      },
      "source": [
        "<a href=\"https://colab.research.google.com/github/Subrina-Sirajee/Machine-Health-Prediction/blob/main/Machine_Health_Prediction.ipynb\" target=\"_parent\"><img src=\"https://colab.research.google.com/assets/colab-badge.svg\" alt=\"Open In Colab\"/></a>"
      ]
    },
    {
      "cell_type": "code",
      "source": [
        "# Importing necessary module for mounting Google Drive\n",
        "from google.colab import drive\n",
        "\n",
        "# Mounting Google Drive to access files\n",
        "drive.mount('/content/drive')"
      ],
      "metadata": {
        "colab": {
          "base_uri": "https://localhost:8080/"
        },
        "id": "lt40buaE7GFQ",
        "outputId": "d8418fab-3c95-4b10-8715-3c2edf5b4024"
      },
      "execution_count": 1,
      "outputs": [
        {
          "output_type": "stream",
          "name": "stdout",
          "text": [
            "Mounted at /content/drive\n"
          ]
        }
      ]
    },
    {
      "cell_type": "code",
      "execution_count": 2,
      "metadata": {
        "id": "mVYMVKwR5JZ_"
      },
      "outputs": [],
      "source": [
        "# Importing necessary libraries\n",
        "from joblib import load\n",
        "import pandas as pd"
      ]
    },
    {
      "cell_type": "code",
      "source": [
        "# Load the saved model\n",
        "loaded_model = load('/content/drive/MyDrive/Datasets/xgboost_pipeline_model.joblib')"
      ],
      "metadata": {
        "id": "jqJFGl_c7S1u"
      },
      "execution_count": 4,
      "outputs": []
    },
    {
      "cell_type": "code",
      "source": [
        "def predict_maintenance(model, input_data):\n",
        "    \"\"\"\n",
        "    Function to make predictions using the provided model.\n",
        "\n",
        "    Parameters:\n",
        "    - model: trained machine learning model\n",
        "    - input_data: DataFrame containing input features for prediction\n",
        "\n",
        "    Returns:\n",
        "    - predictions: array of predicted labels\n",
        "    \"\"\"\n",
        "    # Make predictions using the loaded model\n",
        "    predictions = model.predict(input_data)\n",
        "    return predictions\n",
        "\n",
        "def main():\n",
        "    \"\"\"\n",
        "    Main function to accept user input for new data and make predictions using the trained model.\n",
        "    \"\"\"\n",
        "    # Load the saved model\n",
        "    #loaded_model = load('/content/drive/MyDrive/Datasets/xgboost_pipeline_model.joblib')\n",
        "\n",
        "    # Accept user input for new data\n",
        "    print(\"Please enter temperature and vibration sensor readings:\")\n",
        "    temperature = float(input(\"Temperature Sensor-1: \"))\n",
        "    vibration_sensor_1 = float(input(\"Vibration Sensor-1: \"))\n",
        "    vibration_sensor_2 = float(input(\"Vibration Sensor-2: \"))\n",
        "    vibration_sensor_3 = float(input(\"Vibration Sensor-3: \"))\n",
        "\n",
        "    # Create a DataFrame from the user input\n",
        "    new_data = pd.DataFrame({\n",
        "        'Temperature Sensor-1': [temperature],\n",
        "        'Vibration Sensor-1': [vibration_sensor_1],\n",
        "        'Vibration Sensor-2': [vibration_sensor_2],\n",
        "        'Vibration Sensor-3': [vibration_sensor_3]\n",
        "    })\n",
        "\n",
        "    # Make predictions using the loaded model\n",
        "    predictions = predict_maintenance(loaded_model, new_data)\n",
        "\n",
        "    # Determine the maintenance message based on the predicted label\n",
        "    if predictions[0] == 1:\n",
        "        msg = \"The machine is operating optimally without any need for immediate maintenance.\"\n",
        "    elif predictions[0] == 2:\n",
        "        msg = \"The machine is operating below optimal conditions and may require maintenance soon.\"\n",
        "    else:\n",
        "        msg = \"The machine requires immediate maintenance.\"\n",
        "\n",
        "    # Print the maintenance message\n",
        "    print(msg)\n",
        "\n",
        "if __name__ == \"__main__\":\n",
        "    main()\n"
      ],
      "metadata": {
        "colab": {
          "base_uri": "https://localhost:8080/"
        },
        "id": "dQ_3pqqV7oMQ",
        "outputId": "ab559872-c60d-412e-afe7-9c2d76f711b6"
      },
      "execution_count": 5,
      "outputs": [
        {
          "output_type": "stream",
          "name": "stdout",
          "text": [
            "Please enter temperature and vibration sensor readings:\n",
            "Temperature Sensor-1: 22.167780\n",
            "Vibration Sensor-1: 6899\n",
            "Vibration Sensor-2: 903\n",
            "Vibration Sensor-3: 2147483647\n",
            "The machine requires immediate maintenance.\n"
          ]
        }
      ]
    }
  ]
}